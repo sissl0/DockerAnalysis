{
 "cells": [
  {
   "cell_type": "code",
   "execution_count": null,
   "id": "48370056-68fb-4e43-973c-f6cf5a8bded9",
   "metadata": {},
   "outputs": [],
   "source": [
    "import requests\n",
    "import json\n",
    "import base64\n",
    "\n",
    "# Konfiguration\n",
    "DOCKERHUB_USERNAME = \"sisslo\"\n",
    "DOCKERHUB_TOKEN = \"\"\n",
    "REPOSITORY = \"brimworks/test\"\n",
    "DIGEST = \"sha256:b7ae8683cfc2ff45775956b1e55a93e0779f0f8aab187481010d4c1fd36b2ec3\""
   ]
  },
  {
   "cell_type": "code",
   "execution_count": 2,
   "id": "09d079cc",
   "metadata": {},
   "outputs": [],
   "source": [
    "auth_url = f\"https://auth.docker.io/token?service=registry.docker.io&scope=repository:{REPOSITORY}:pull\"\n",
    "response = requests.get(auth_url, auth=(DOCKERHUB_USERNAME, DOCKERHUB_TOKEN))\n",
    "token = response.json().get('token')"
   ]
  },
  {
   "cell_type": "code",
   "execution_count": 3,
   "id": "903c4435-708f-4123-8216-7fb83885ce55",
   "metadata": {},
   "outputs": [
    {
     "data": {
      "text/plain": [
       "{'token': 'eyJhbGciOiJSUzI1NiIsInR5cCI6IkpXVCIsIng1YyI6WyJNSUlFRmpDQ0F2NmdBd0lCQWdJVUlvQW42a0k2MUs3bTAwNVhqcXVpKzRDTzVUb3dEUVlKS29aSWh2Y05BUUVMQlFBd2dZWXhDekFKQmdOVkJBWVRBbFZUTVJNd0VRWURWUVFJRXdwRFlXeHBabTl5Ym1saE1SSXdFQVlEVlFRSEV3bFFZV3h2SUVGc2RHOHhGVEFUQmdOVkJBb1RERVJ2WTJ0bGNpd2dTVzVqTGpFVU1CSUdBMVVFQ3hNTFJXNW5hVzVsWlhKcGJtY3hJVEFmQmdOVkJBTVRHRVJ2WTJ0bGNpd2dTVzVqTGlCRmJtY2dVbTl2ZENCRFFUQWVGdzB5TkRBNU1qUXlNalUxTURCYUZ3MHlOVEE1TWpReU1qVTFNREJhTUlHRk1Rc3dDUVlEVlFRR0V3SlZVekVUTUJFR0ExVUVDQk1LUTJGc2FXWnZjbTVwWVRFU01CQUdBMVVFQnhNSlVHRnNieUJCYkhSdk1SVXdFd1lEVlFRS0V3eEViMk5yWlhJc0lFbHVZeTR4RkRBU0JnTlZCQXNUQzBWdVoybHVaV1Z5YVc1bk1TQXdIZ1lEVlFRREV4ZEViMk5yWlhJc0lFbHVZeTRnUlc1bklFcFhWQ0JEUVRDQ0FTSXdEUVlKS29aSWh2Y05BUUVCQlFBRGdnRVBBRENDQVFvQ2dnRUJBTGRWRDVxNlJudkdETUxPVysrR1MxWENwR2FRRHd0V3FIS2tLYlM5cVlJMXdCallKWEJ6U2MweTBJK0swU0lVd2pqNGJJT3ZpNXNyOGhJajdReGhrY1ppTlU1OEE5NW5BeGVFS3lMaU9QU0tZK3Y5VnZadmNNT2NwVW1xZ1BxWkhoeTVuMW8xbGxmek92dTd5SDc4a1FyT0lTMTZ3RFVVZm8yRkxPaERDaElsbCtYa2VlbFB6c0tiRWo3ZGJqdXV6RGxIODlWaE4yenNWNFV3c244UVpGVTB4V00wb3R2d0lQN3k0UDZGWDBuUFJuTVQyMlRIajVIWVJ3SUFVdm1FN0l3YlZVQ2wvM1hPaGhwbGNJZFQxREZGOUJUMHJOUC93ZTBWMklId1RHdVdTVENWb3M2b3R5ekk3a1hEdGZzeWRjU2Q5TklpSXZITHFYamJPVGtidWVjQ0F3RUFBYU43TUhrd0RnWURWUjBQQVFIL0JBUURBZ0dtTUJNR0ExVWRKUVFNTUFvR0NDc0dBUVVGQndNQk1CSUdBMVVkRXdFQi93UUlNQVlCQWY4Q0FRQXdIUVlEVlIwT0JCWUVGSmZWdXV4Vko3UXh1amlMNExZajFjQjEzbWhjTUI4R0ExVWRJd1FZTUJhQUZDNjBVUE5lQmtvZ1kyMnRYUGNCTUhGdkczQ3NNQTBHQ1NxR1NJYjNEUUVCQ3dVQUE0SUJBUUFiQkdlZHZVVzhOVWp1VXJWbDlrWmMybDRDbjhJbDFzeVBVTDNYVXdQSHprcy9iUFJ4S1loeFlIODdOb1NwdDZJT3ZPS0k3ZCthQmoyM1lldTdDWGltTWxMUWl4UGhwQ0J0dC92Vmx1UXNJbVZXZXBJWCtraENienNGemtNbUNpbHo1OXVxOURiaGg3VUw1NjQxUjdFQ2pZc0h0Y2RKeURXRWFqMXFEVFoyOUUwY1UvWmhmbmsrVFVOTExkNjYxNldCREQ3TDlSNkgzK3VkRXBRRDFlcXYzU1YwczY3R2ZVT3l0RXhzMVRja3U4aUJCdnJLbnhZa3BZMVZDbW5UMUxSaFo4K283YU94YjR4ZHByMFR6ZnBqN3BidEhWQnQwSGNUUlpIdG54MkhCN3pzWXRFZUl3eVE3bGhhMVJ4eDJNQmR0R2tBREFLUk9RRnpmMEJubm91TSJdfQ.eyJhY2Nlc3MiOlt7ImFjdGlvbnMiOlsicHVsbCJdLCJuYW1lIjoiYnJpbXdvcmtzL3Rlc3QiLCJ0eXBlIjoicmVwb3NpdG9yeSJ9XSwiYXVkIjoicmVnaXN0cnkuZG9ja2VyLmlvIiwiZXhwIjoxNzU1NzI0OTI2LCJodHRwczovL2F1dGguZG9ja2VyLmlvIjp7ImF0X2lkIjoiZTMyMmQ3ZTYtYTc4OC00NzBjLThlNGEtYTlkYjY1ZjU4MzM5IiwiYXRfbmFtZSI6Ik1hbmlmZXN0cyIsInBhdF9pZCI6ImUzMjJkN2U2LWE3ODgtNDcwYy04ZTRhLWE5ZGI2NWY1ODMzOSIsInBsYW5fbmFtZSI6InBybyIsInVzZXJuYW1lIjoic2lzc2xvIn0sImlhdCI6MTc1NTcyNDYyNiwiaXNzIjoiYXV0aC5kb2NrZXIuaW8iLCJqdGkiOiJkY2tyX2p0aV9DTUFyUGlYZDczQ1FmVEhFVGRNSlhBdnNlTFk9IiwibmJmIjoxNzU1NzI0MzI2LCJzdWIiOiIyY2VkMmFkYi03ZTgwLTRjYWMtOTc5Mi0xMTY2MjMyZDYxMDMifQ.Ulz1ZJ_2v7Q0Q9OyoN7qFZTDnO9QNTO2KVe8dW69HmFV77X90-5CyMCCaFLjTnABZ-aHM1MArsqWTBn74XS7_fXuftKMhrfe2TYEbyAd57waJsYCPS4igfRICvAQxx_eDTNcG0jL3lsQmC8nq8eVA9ARuGI4XsANuqfu934UeZNWtLOd5ND919lyxxhKEV3ZnOlNUC8AU8HEIC6IrmUkJ2bsxMnsGj2HQf8_zolB7z1pLsS1cxhgJVKh-Wluy2_VSLo55wk0eFjPFj5I8L0oPDgWp5y6yQn7GsdAOB5azTuyM0sYrUfWnR6PKy4_K6RF_qGHVBRkmnr_Bv-VAtYNVQ',\n",
       " 'access_token': 'eyJhbGciOiJSUzI1NiIsInR5cCI6IkpXVCIsIng1YyI6WyJNSUlFRmpDQ0F2NmdBd0lCQWdJVUlvQW42a0k2MUs3bTAwNVhqcXVpKzRDTzVUb3dEUVlKS29aSWh2Y05BUUVMQlFBd2dZWXhDekFKQmdOVkJBWVRBbFZUTVJNd0VRWURWUVFJRXdwRFlXeHBabTl5Ym1saE1SSXdFQVlEVlFRSEV3bFFZV3h2SUVGc2RHOHhGVEFUQmdOVkJBb1RERVJ2WTJ0bGNpd2dTVzVqTGpFVU1CSUdBMVVFQ3hNTFJXNW5hVzVsWlhKcGJtY3hJVEFmQmdOVkJBTVRHRVJ2WTJ0bGNpd2dTVzVqTGlCRmJtY2dVbTl2ZENCRFFUQWVGdzB5TkRBNU1qUXlNalUxTURCYUZ3MHlOVEE1TWpReU1qVTFNREJhTUlHRk1Rc3dDUVlEVlFRR0V3SlZVekVUTUJFR0ExVUVDQk1LUTJGc2FXWnZjbTVwWVRFU01CQUdBMVVFQnhNSlVHRnNieUJCYkhSdk1SVXdFd1lEVlFRS0V3eEViMk5yWlhJc0lFbHVZeTR4RkRBU0JnTlZCQXNUQzBWdVoybHVaV1Z5YVc1bk1TQXdIZ1lEVlFRREV4ZEViMk5yWlhJc0lFbHVZeTRnUlc1bklFcFhWQ0JEUVRDQ0FTSXdEUVlKS29aSWh2Y05BUUVCQlFBRGdnRVBBRENDQVFvQ2dnRUJBTGRWRDVxNlJudkdETUxPVysrR1MxWENwR2FRRHd0V3FIS2tLYlM5cVlJMXdCallKWEJ6U2MweTBJK0swU0lVd2pqNGJJT3ZpNXNyOGhJajdReGhrY1ppTlU1OEE5NW5BeGVFS3lMaU9QU0tZK3Y5VnZadmNNT2NwVW1xZ1BxWkhoeTVuMW8xbGxmek92dTd5SDc4a1FyT0lTMTZ3RFVVZm8yRkxPaERDaElsbCtYa2VlbFB6c0tiRWo3ZGJqdXV6RGxIODlWaE4yenNWNFV3c244UVpGVTB4V00wb3R2d0lQN3k0UDZGWDBuUFJuTVQyMlRIajVIWVJ3SUFVdm1FN0l3YlZVQ2wvM1hPaGhwbGNJZFQxREZGOUJUMHJOUC93ZTBWMklId1RHdVdTVENWb3M2b3R5ekk3a1hEdGZzeWRjU2Q5TklpSXZITHFYamJPVGtidWVjQ0F3RUFBYU43TUhrd0RnWURWUjBQQVFIL0JBUURBZ0dtTUJNR0ExVWRKUVFNTUFvR0NDc0dBUVVGQndNQk1CSUdBMVVkRXdFQi93UUlNQVlCQWY4Q0FRQXdIUVlEVlIwT0JCWUVGSmZWdXV4Vko3UXh1amlMNExZajFjQjEzbWhjTUI4R0ExVWRJd1FZTUJhQUZDNjBVUE5lQmtvZ1kyMnRYUGNCTUhGdkczQ3NNQTBHQ1NxR1NJYjNEUUVCQ3dVQUE0SUJBUUFiQkdlZHZVVzhOVWp1VXJWbDlrWmMybDRDbjhJbDFzeVBVTDNYVXdQSHprcy9iUFJ4S1loeFlIODdOb1NwdDZJT3ZPS0k3ZCthQmoyM1lldTdDWGltTWxMUWl4UGhwQ0J0dC92Vmx1UXNJbVZXZXBJWCtraENienNGemtNbUNpbHo1OXVxOURiaGg3VUw1NjQxUjdFQ2pZc0h0Y2RKeURXRWFqMXFEVFoyOUUwY1UvWmhmbmsrVFVOTExkNjYxNldCREQ3TDlSNkgzK3VkRXBRRDFlcXYzU1YwczY3R2ZVT3l0RXhzMVRja3U4aUJCdnJLbnhZa3BZMVZDbW5UMUxSaFo4K283YU94YjR4ZHByMFR6ZnBqN3BidEhWQnQwSGNUUlpIdG54MkhCN3pzWXRFZUl3eVE3bGhhMVJ4eDJNQmR0R2tBREFLUk9RRnpmMEJubm91TSJdfQ.eyJhY2Nlc3MiOlt7ImFjdGlvbnMiOlsicHVsbCJdLCJuYW1lIjoiYnJpbXdvcmtzL3Rlc3QiLCJ0eXBlIjoicmVwb3NpdG9yeSJ9XSwiYXVkIjoicmVnaXN0cnkuZG9ja2VyLmlvIiwiZXhwIjoxNzU1NzI0OTI2LCJodHRwczovL2F1dGguZG9ja2VyLmlvIjp7ImF0X2lkIjoiZTMyMmQ3ZTYtYTc4OC00NzBjLThlNGEtYTlkYjY1ZjU4MzM5IiwiYXRfbmFtZSI6Ik1hbmlmZXN0cyIsInBhdF9pZCI6ImUzMjJkN2U2LWE3ODgtNDcwYy04ZTRhLWE5ZGI2NWY1ODMzOSIsInBsYW5fbmFtZSI6InBybyIsInVzZXJuYW1lIjoic2lzc2xvIn0sImlhdCI6MTc1NTcyNDYyNiwiaXNzIjoiYXV0aC5kb2NrZXIuaW8iLCJqdGkiOiJkY2tyX2p0aV9DTUFyUGlYZDczQ1FmVEhFVGRNSlhBdnNlTFk9IiwibmJmIjoxNzU1NzI0MzI2LCJzdWIiOiIyY2VkMmFkYi03ZTgwLTRjYWMtOTc5Mi0xMTY2MjMyZDYxMDMifQ.Ulz1ZJ_2v7Q0Q9OyoN7qFZTDnO9QNTO2KVe8dW69HmFV77X90-5CyMCCaFLjTnABZ-aHM1MArsqWTBn74XS7_fXuftKMhrfe2TYEbyAd57waJsYCPS4igfRICvAQxx_eDTNcG0jL3lsQmC8nq8eVA9ARuGI4XsANuqfu934UeZNWtLOd5ND919lyxxhKEV3ZnOlNUC8AU8HEIC6IrmUkJ2bsxMnsGj2HQf8_zolB7z1pLsS1cxhgJVKh-Wluy2_VSLo55wk0eFjPFj5I8L0oPDgWp5y6yQn7GsdAOB5azTuyM0sYrUfWnR6PKy4_K6RF_qGHVBRkmnr_Bv-VAtYNVQ',\n",
       " 'expires_in': 300,\n",
       " 'issued_at': '2025-08-20T21:17:06.465438903Z'}"
      ]
     },
     "execution_count": 3,
     "metadata": {},
     "output_type": "execute_result"
    }
   ],
   "source": [
    "response.json()"
   ]
  },
  {
   "cell_type": "code",
   "execution_count": 16,
   "id": "9d54d284-3755-4716-be08-6e232ecd0d09",
   "metadata": {},
   "outputs": [],
   "source": [
    "registry_url = f\"https://registry-1.docker.io/v2/{REPOSITORY}/manifests/{DIGEST}\"\n",
    "v1_url = f\"https://index.docker.io/v1/repositories/{REPOSITORY}/tags/{DIGEST}\"\n",
    "\n",
    "headers = {\n",
    "    \"Authorization\": f\"Bearer {token}\",\n",
    "    \"Accept\": \"application/vnd.docker.distribution.manifest.v2+json\"\n",
    "}\n",
    "\n",
    "manifest_response = requests.get(registry_url, headers=headers)\n"
   ]
  },
  {
   "cell_type": "code",
   "execution_count": 18,
   "id": "6039c048-1da4-4b61-8ce9-2ea5bec3c984",
   "metadata": {},
   "outputs": [
    {
     "data": {
      "text/plain": [
       "410"
      ]
     },
     "execution_count": 18,
     "metadata": {},
     "output_type": "execute_result"
    }
   ],
   "source": [
    "manifest_response.status_code"
   ]
  },
  {
   "cell_type": "code",
   "execution_count": 23,
   "id": "9ee5c3d6-c903-4e2c-bd10-62d32461ce65",
   "metadata": {},
   "outputs": [],
   "source": [
    "rate_limit_url = \"https://registry-1.docker.io/v2/rate_limit\"\n",
    "rate_response = requests.get(rate_limit_url, headers=headers)"
   ]
  },
  {
   "cell_type": "code",
   "execution_count": 15,
   "id": "eccd351d-2146-4c54-b371-1d16657d3e5c",
   "metadata": {},
   "outputs": [],
   "source": [
    "auth_url = \"https://auth.docker.io/token?service=registry.docker.io&scope=repository:ratelimitpreview/test:pull\"\n",
    "response = requests.get(auth_url, auth=(DOCKERHUB_USERNAME, DOCKERHUB_TOKEN))\n",
    "token = response.json().get('token')"
   ]
  },
  {
   "cell_type": "code",
   "execution_count": 16,
   "id": "51091475-2776-4cb2-9a4d-6410f5394de3",
   "metadata": {},
   "outputs": [],
   "source": [
    "ratelimit_url = \"https://registry-1.docker.io/v2/ratelimitpreview/test/manifests/latest\"\n",
    "headers = {\n",
    "    \"Authorization\": f\"Bearer {token}\",\n",
    "    \"Accept\": \"application/vnd.docker.distribution.manifest.v2+json\"\n",
    "}\n",
    "\n",
    "ratelimit_response = requests.get(ratelimit_url, headers=headers)"
   ]
  },
  {
   "cell_type": "code",
   "execution_count": 17,
   "id": "17d1a140-45e9-40f4-a69e-4e42111bc1e8",
   "metadata": {},
   "outputs": [
    {
     "data": {
      "text/plain": [
       "{'Date': 'Sun, 17 Aug 2025 17:54:15 GMT', 'Content-Type': 'application/vnd.docker.distribution.manifest.v2+json', 'Content-Length': '527', 'Connection': 'keep-alive', 'docker-content-digest': 'sha256:c2d41d2ba6d8b7b4a3ffec621578eb4d9a0909df29dfa2f6fd8a2e5fd0836aed', 'docker-distribution-api-version': 'registry/2.0', 'etag': '\"sha256:c2d41d2ba6d8b7b4a3ffec621578eb4d9a0909df29dfa2f6fd8a2e5fd0836aed\"', 'strict-transport-security': 'max-age=31536000', 'docker-ratelimit-source': '2ced2adb-7e80-4cac-9792-1166232d6103'}"
      ]
     },
     "execution_count": 17,
     "metadata": {},
     "output_type": "execute_result"
    }
   ],
   "source": [
    "ratelimit_response.headers"
   ]
  },
  {
   "cell_type": "code",
   "execution_count": null,
   "id": "92102b2c-17ab-4b45-9c14-329d65c19f6a",
   "metadata": {},
   "outputs": [],
   "source": []
  }
 ],
 "metadata": {
  "kernelspec": {
   "display_name": "Python 3 (ipykernel)",
   "language": "python",
   "name": "python3"
  },
  "language_info": {
   "codemirror_mode": {
    "name": "ipython",
    "version": 3
   },
   "file_extension": ".py",
   "mimetype": "text/x-python",
   "name": "python",
   "nbconvert_exporter": "python",
   "pygments_lexer": "ipython3",
   "version": "3.12.3"
  }
 },
 "nbformat": 4,
 "nbformat_minor": 5
}
